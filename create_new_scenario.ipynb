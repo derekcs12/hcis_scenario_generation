{
 "cells": [
  {
   "cell_type": "markdown",
   "metadata": {},
   "source": [
    "# Create New Scenario and Upload\n",
    "To create new scenario and upload to the Payload Server throught the API, follow this example.\n"
   ]
  },
  {
   "cell_type": "markdown",
   "metadata": {},
   "source": [
    "#### Change Log\n",
    "- 2024-09-13 v2.2\n",
    "    - Update tag creation function and rename to handle_tags_creation_and_get_ids,\n",
    "    - add openDrives request to show available openDrives.\n",
    "    - move description assignment to front,\n",
    "    - modify scenario deletion with scenario uuid.\n",
    "- 2024-09-12 v2.1\n",
    "    - Modify scenario create request body `id` -> `scenarioId`,\n",
    "    - call create_tags_if_not_exists in code,\n",
    "    - add KPIs request to show available KPIs.\n",
    "- 2024-09-12 v2.0\n",
    "    - Modify Condition Definitions,\n",
    "    - add scenario id section,\n",
    "    - add KPI instructions,\n",
    "    - add route request to show available routes,\n",
    "    - modify record agend to use many text instead of array of text,\n",
    "    - add change log, prerequisition, configuration sections into this file,\n",
    "    - add delete section.\n",
    "- 2024-07-05 v1.0\n",
    "    - Init Version"
   ]
  },
  {
   "cell_type": "markdown",
   "metadata": {},
   "source": [
    "#### Prerequisition\n",
    "- python 3.x\n",
    "\n",
    "#### Configuration\n",
    "1. Add an `.env` in the same folder.\n",
    "2. Find user in http://172.30.1.139:3000/admin/collections/users?limit=10\n",
    "3. Enable API Key if not already enabled and copy it.\n",
    "4. In the `.env` file, add a line `PAYLOAD_API_KEY={YOUR_API_KEY}`.\n",
    "\n"
   ]
  },
  {
   "cell_type": "code",
   "execution_count": null,
   "metadata": {},
   "outputs": [],
   "source": [
    "%pip install python-dotenv"
   ]
  },
  {
   "cell_type": "code",
   "execution_count": null,
   "metadata": {},
   "outputs": [],
   "source": [
    "import os\n",
    "import requests\n",
    "import json\n",
    "from typing import List\n",
    "import dotenv\n",
    "dotenv.load_dotenv()\n",
    "base_url = \"http://172.30.1.139:3000/api\""
   ]
  },
  {
   "cell_type": "markdown",
   "metadata": {},
   "source": [
    "## Auth"
   ]
  },
  {
   "cell_type": "code",
   "execution_count": null,
   "metadata": {},
   "outputs": [],
   "source": [
    "user_api_key = os.getenv(\"PAYLOAD_API_KEY\")\n",
    "print(user_api_key)\n",
    "headers = {\n",
    "    \"Authorization\": f\"users API-Key {user_api_key}\",\n",
    "}\n",
    "response = requests.get(f\"{base_url}/users/me\", headers=headers)\n",
    "if response.status_code == 200:\n",
    "    print(f\"User: {response.json()['user']['name']}, role: {response.json()['user']['role']}\")\n"
   ]
  },
  {
   "cell_type": "markdown",
   "metadata": {},
   "source": [
    "## Scenario ID"
   ]
  },
  {
   "cell_type": "code",
   "execution_count": null,
   "metadata": {},
   "outputs": [],
   "source": [
    "scenario_id = f\"create_new_scenario_example_code\"\n",
    "description = f\"A new scenario created by example code\""
   ]
  },
  {
   "cell_type": "markdown",
   "metadata": {},
   "source": [
    "## Create Tags If Not Exists"
   ]
  },
  {
   "cell_type": "code",
   "execution_count": null,
   "metadata": {},
   "outputs": [],
   "source": [
    "\n",
    "\n",
    "tags_to_be_used_in_created_scenario = [\n",
    "    \"behavior:cut-in\",\n",
    "    \"party:showay\",\n",
    "    \"deliver:2024Aug\",\n",
    "    \"src:cetran\",\n",
    "    \"field:hct\"\n",
    "]\n",
    "\n",
    "def handle_tags_creation_and_get_ids(tags: List[str]):\n",
    "    \"\"\"return a dictionary of tag name to tag id for the given list of tags. If a tag does not exist, it will be created.\n",
    "    Args:\n",
    "        tags (List[str]): list of tags to be created\n",
    "    Returns:\n",
    "        dict: dictionary of tag name to tag id\n",
    "    Raises:\n",
    "        Exception: if failed to create a tag\n",
    "        KeyError: if a tag is not succesfully created\n",
    "    \"\"\"\n",
    "    tags_doc = requests.get(\n",
    "        f\"{base_url}/tags?depth=1&limit=1000000\",\n",
    "        headers=headers).json()[\"docs\"]\n",
    "    all_tags = dict( [ (tag[\"name\"], tag[\"id\"]) for tag in tags_doc ] )\n",
    "\n",
    "    for tag in tags:\n",
    "        if tag not in all_tags:\n",
    "            try:\n",
    "                response = requests.post(\n",
    "                    f\"{base_url}/tags\",\n",
    "                    headers=headers,\n",
    "                    json={\n",
    "                        \"name\": tag,\n",
    "                    }\n",
    "                )\n",
    "                if response.status_code == 201 and response.json().get(\"message\") == \"Tag successfully created.\":\n",
    "                    print(f\"Tag {tag} created successfully. ID: {response.json()['doc']['id']}\")\n",
    "                    all_tags[tag] = response.json()[\"doc\"][\"id\"]\n",
    "            except Exception as e:\n",
    "                raise f\"Failed to create tag {tag}\\n{e}\"\n",
    "\n",
    "    tags = dict( [ (tag, all_tags[tag]) for tag in tags ] )\n",
    "    tag_ids = [ all_tags[tag] for tag in tags ]\n",
    "    print(f\"tags: {tags}\")\n",
    "    print(f\"tag_ids: {tag_ids}\")\n",
    "    return tag_ids\n",
    "\n",
    "tag_ids_to_be_used_in_created_scenario = handle_tags_creation_and_get_ids(tags_to_be_used_in_created_scenario)"
   ]
  },
  {
   "cell_type": "markdown",
   "metadata": {},
   "source": [
    "**NOTE**\n",
    "\n",
    "`tag_ids_to_be_used_in_created_scenario` is now a list of UUIDs."
   ]
  },
  {
   "cell_type": "markdown",
   "metadata": {},
   "source": [
    "## Parameters\n",
    "The parameters and ranges to be searched."
   ]
  },
  {
   "cell_type": "code",
   "execution_count": null,
   "metadata": {},
   "outputs": [],
   "source": [
    "parameters = [  # Should be the same name using in the OpenSCENARIO file\n",
    "    {\n",
    "        \"name\": \"TargetSpeed\",\n",
    "        \"unit\": \"m/s\",\n",
    "        \"min\": 20,\n",
    "        \"max\": 40,\n",
    "    },\n",
    "    {\n",
    "        \"name\": \"TargetLateralOffset\",\n",
    "        \"unit\": \"m\",\n",
    "        \"min\": 1,\n",
    "        \"max\": -1,\n",
    "    },\n",
    "    {\n",
    "        \"name\": \"TargetS\",\n",
    "        \"unit\": \"m\",\n",
    "        \"min\": -5,\n",
    "        \"max\": 5,\n",
    "    }\n",
    "]"
   ]
  },
  {
   "cell_type": "markdown",
   "metadata": {},
   "source": [
    "## OpenDRIVE File\n",
    "Assign used OpenDRIVE here."
   ]
  },
  {
   "cell_type": "code",
   "execution_count": null,
   "metadata": {},
   "outputs": [],
   "source": [
    "# Here we get all available OpenDRIVE files, and assigne one.\n",
    "\n",
    "response = requests.get(f\"{base_url}/openDrives/\", headers=headers)\n",
    "if response.status_code != 200:\n",
    "    print(\"API is not working\")\n",
    "available_opendrives = dict( [ (opendrive[\"filename\"], opendrive[\"id\"]) for opendrive in response.json()[\"docs\"] ] )\n",
    "print(json.dumps(available_opendrives, indent=4))\n",
    "\n",
    "opendrive_id = available_opendrives[\"hct_6.xodr\"]\n"
   ]
  },
  {
   "cell_type": "markdown",
   "metadata": {},
   "source": [
    "## OpenSCENARIO File\n",
    "2 methods to upload the openSCENARIO file\n",
    "\n",
    "#### 1. Upload with xml strings\n",
    "The field should be\n",
    "```json\n",
    "openScenarioField = {\n",
    "    \"type\": \"String\",\n",
    "    \"content\": \"<openSCENARIO> <!-- Paste open scenario xml string here. --!> <openSCENARIO/>\"\n",
    "}\n",
    "```\n",
    "\n",
    "#### 2. Upload with a file\n",
    "The field should be\n",
    "```json\n",
    "openScenarioField = {\n",
    "    \"type\": \"File\",\n",
    "    \"openScenario\": \"OpenScenarioID Here\"\n",
    "}\n",
    "```\n",
    "To get the openScenarioID, you'll have to first upload the file to the endpoint `base_url/api/openScenarios`, get the id from the response, then use it in the openScenarioField"
   ]
  },
  {
   "cell_type": "code",
   "execution_count": null,
   "metadata": {},
   "outputs": [],
   "source": [
    "def use_scenario_string(content):\n",
    "    return {\n",
    "        \"type\": \"String\",\n",
    "        \"content\": content,\n",
    "    }"
   ]
  },
  {
   "cell_type": "code",
   "execution_count": null,
   "metadata": {},
   "outputs": [],
   "source": [
    "## Upload openScenario\n",
    "def upload_openscenario(file_path):\n",
    "    with open(file_path, \"rb\") as f:\n",
    "        files = {\n",
    "            \"file\": (\"hct_04.xosc\", f, \"application/octet-stream\")\n",
    "        }\n",
    "        r = requests.post(\n",
    "            f\"{base_url}/openScenarios\",\n",
    "            headers=headers,\n",
    "            files=files,\n",
    "        )\n",
    "    open_scenario_id = r.json()[\"doc\"][\"id\"]\n",
    "    print(json.dumps(r.json(), indent=4))\n",
    "    return {\n",
    "        \"type\": \"File\",\n",
    "        \"openScenario\": open_scenario_id\n",
    "    }"
   ]
  },
  {
   "cell_type": "markdown",
   "metadata": {},
   "source": [
    "## Routes\n",
    "A route is the path on the semantic map that the ego vehicle should be following.\n",
    "\n",
    "A route should be assigned to the scenario. This will be used to inform the autonomous system to switch route.\n",
    "\n",
    "To add a route, please use the GUI [here](http://172.30.1.139:3000/admin/collections/routes?limit=10) or use the default route.\n",
    "\n",
    "Then assign the ID of the route.\n"
   ]
  },
  {
   "cell_type": "code",
   "execution_count": null,
   "metadata": {},
   "outputs": [],
   "source": [
    "# Here we list available routes.\n",
    "response = requests.get(f\"{base_url}/routes/\")\n",
    "if response.status_code != 200:\n",
    "    print(\"API is not working\")\n",
    "available_routes = dict([(doc[\"name\"], doc[\"id\"]) for doc in response.json()[\"docs\"]])\n",
    "print(f\"Available routes: {list(available_routes)}\")"
   ]
  },
  {
   "cell_type": "code",
   "execution_count": null,
   "metadata": {},
   "outputs": [],
   "source": [
    "chosen_route = \"hsinchu_eight3\"  # choose from available routes above.\n",
    "route = available_routes[chosen_route]"
   ]
  },
  {
   "cell_type": "markdown",
   "metadata": {},
   "source": [
    "## Tag Tree\n",
    "Tag Tree follows the CETRAN format, with camel-style strings. Please refer to the example below."
   ]
  },
  {
   "cell_type": "code",
   "execution_count": null,
   "metadata": {},
   "outputs": [],
   "source": [
    "tag_tree = {\n",
    "    \"ego\": {\n",
    "        \"vehicleLongitudinalActivity\": {\n",
    "            \"mode\": \"drivingForward\",\n",
    "            \"drivingForwardMode\": \"cruising\"\n",
    "        },\n",
    "        \"vehicleLateralActivity\": {\n",
    "            \"mode\": \"goingStraight\"\n",
    "        }\n",
    "    },\n",
    "    \"actors\": [\n",
    "    {\n",
    "\n",
    "        \"vehicleLongitudinalActivity\": {\n",
    "\n",
    "            \"mode\": \"drivingForward\",\n",
    "            \"drivingForwardMode\": \"cruising\"\n",
    "\n",
    "        },\n",
    "        \"vehicleLateralActivity\": {\n",
    "\n",
    "            \"mode\": \"goingStraight\"\n",
    "\n",
    "        },\n",
    "        \"initialState\": {\n",
    "\n",
    "            \"direction\": \"oncoming\",\n",
    "            \"dynamics\": \"standingStill\",\n",
    "            \"lateralPosition\": \"leftOfEgo\",\n",
    "            \"longitudinalPosition\": \"inFrontOfEgo\"\n",
    "\n",
    "        },\n",
    "        \"leadVehicle\": {\n",
    "\n",
    "            \"mode\": \"appearing\",\n",
    "            \"appearingMode\": \"gapClosing\"\n",
    "\n",
    "        },\n",
    "    }\n",
    "    ],\n",
    "    \"roadLayout\": {\n",
    "        \"mode\": \"junction\",\n",
    "        \"junctionMode\": \"noTrafficLight\"\n",
    "    }\n",
    "}"
   ]
  },
  {
   "cell_type": "markdown",
   "metadata": {},
   "source": [
    "## Test Objective\n",
    "Is the key to evaluate whether a scenario is good enough.\n",
    "Find all evaluation target at [keyPerformanceIndicators](http://172.30.1.139:3000/admin/collections/keyPerformanceIndicators?limit=1000).\n",
    "Or please add new evaluation targets and tell how should I implement it.\n",
    "\n",
    "#### Note\n",
    "\n",
    "If you need other KPIs, please inform somebody from ITRI's team.\n",
    "\n",
    "New KPI means extra implementations in main runner.\n",
    "\n",
    "##### Collision Less Than\n",
    "##### Max Deceleration Less Than\n",
    "##### Minimum Space Between Ego and Agents\n",
    "##### Pass Time Less Than\n",
    "- Execution Time:\n",
    "    - Execution time must be less than the Pass Time for the trial to be considered success.\n",
    "    - The start of execution time depends on the scenario:\n",
    "        - If \"Start Observation Sampling Conditions\" is defined in the scenario, execution time starts at this moment.\n",
    "        - Otherwise, execution time starts when the ego begins moving.\n",
    "\n",
    "- Scenario Timeout:\n",
    "    - If the scenario doesn't end within (PassTimeLessThan + 2) seconds from the execution time start, the trial is considered failed and will be stopped.\n",
    "    - This feature prevents scenarios where the ego might become stuck at a certain point.\n"
   ]
  },
  {
   "cell_type": "code",
   "execution_count": null,
   "metadata": {},
   "outputs": [],
   "source": [
    "# Here we list available KPIs.\n",
    "response = requests.get(f\"{base_url}/keyPerformanceIndicators/\", headers=headers)\n",
    "if response.status_code != 200:\n",
    "    print(\"API is not working\")\n",
    "available_kpis = dict([(doc[\"name\"], doc[\"id\"]) for doc in response.json()[\"docs\"]])\n",
    "print(f\"Available KPIs: {list(available_kpis)}\")"
   ]
  },
  {
   "cell_type": "code",
   "execution_count": null,
   "metadata": {},
   "outputs": [],
   "source": [
    "# Remove KPIs that are not needed\n",
    "\n",
    "test_objective = {\n",
    "    \"criticalityMetrics\": [\n",
    "        {\n",
    "            \"keyPerformanceIndicator\": available_kpis[\"Pass Time Less Than\"],  # threshold should always be 0\n",
    "            \"threshold\": 0,\n",
    "        },\n",
    "        {\n",
    "            \"keyPerformanceIndicator\": available_kpis[\"Minimum Space Between Ego and Agents\"],\n",
    "            \"threshold\": 2,\n",
    "        },\n",
    "        {\n",
    "            \"keyPerformanceIndicator\": available_kpis[\"Max Deceleration Less Than\"],\n",
    "            \"threshold\": 10,\n",
    "        },\n",
    "        {\n",
    "            \"keyPerformanceIndicator\": available_kpis[\"Collision Less Than\"],  # threshold should always be 0\n",
    "            \"threshold\": 0,\n",
    "        }\n",
    "    ]\n",
    "}"
   ]
  },
  {
   "cell_type": "markdown",
   "metadata": {},
   "source": [
    "## Conditions\n",
    "Conditions section was modified for more flexibility when using multiple conditions."
   ]
  },
  {
   "cell_type": "markdown",
   "metadata": {},
   "source": [
    "### Valid Conditions\n",
    "Only if these conditions are triggered will the trial be considered valid.\n",
    "It should be the condition name used in the provided OpenSCENARIO."
   ]
  },
  {
   "cell_type": "code",
   "execution_count": null,
   "metadata": {},
   "outputs": [],
   "source": [
    "valid_conditions = {\n",
    "    \"conditionLogic\": \"And\",  # Available options: \"And\", \"Or\"\n",
    "    \"conditions\": [\n",
    "        \"Condition A\"\n",
    "    ]\n",
    "}"
   ]
  },
  {
   "cell_type": "markdown",
   "metadata": {},
   "source": [
    "### Fail Conditions\n",
    "If these conditions are triggered, the trial will stop right away.\n",
    "\n",
    "Note that this will not mark the trial fail if the Key Performance Indicator doesn't contains a specific item.\n"
   ]
  },
  {
   "cell_type": "code",
   "execution_count": null,
   "metadata": {},
   "outputs": [],
   "source": [
    "fail_conditions = {\n",
    "    \"conditionLogic\": \"Or\",  # Available options: \"And\", \"Or\"\n",
    "    \"conditions\": [\n",
    "        \"Condition B\", \"Condition C\"\n",
    "    ]\n",
    "}\n"
   ]
  },
  {
   "cell_type": "markdown",
   "metadata": {},
   "source": [
    "### End Conditions\n",
    "If these conditions are triggered, the trial will stop right away.\n",
    "\n",
    "Note that this will not mark the trial success. It simply stop the trial.\n",
    "\n",
    "The success/fail will only depends on `KPI`s.\n"
   ]
  },
  {
   "cell_type": "code",
   "execution_count": null,
   "metadata": {},
   "outputs": [],
   "source": [
    "end_conditions = {\n",
    "    \"conditionLogic\": \"Or\",  # Available options: \"And\", \"Or\"\n",
    "    \"conditions\": [\n",
    "        \"Condition D\", \"Condition E\"\n",
    "    ]\n",
    "}\n"
   ]
  },
  {
   "cell_type": "markdown",
   "metadata": {},
   "source": [
    "### Start ObservationSampling Conditions\n",
    "After theses events start, the scenario will be recorded.\n",
    "\n",
    "If KPI `Pass Time Less Than` is specified, this condition will be used to start the timer.\n",
    "\n",
    "Otherwise, the timer will start after the ego has speed other than 0."
   ]
  },
  {
   "cell_type": "code",
   "execution_count": null,
   "metadata": {},
   "outputs": [],
   "source": [
    "start_conditions = {\n",
    "    \"conditionLogic\": \"And\",  # Available options: \"And\", \"Or\"\n",
    "    \"conditions\": [\n",
    "        \"Condition F\", \"Condition G\", \"Condition H\"\n",
    "    ]\n",
    "}\n"
   ]
  },
  {
   "cell_type": "code",
   "execution_count": null,
   "metadata": {},
   "outputs": [],
   "source": [
    "conditions = {\n",
    "    \"validConditions\": valid_conditions,\n",
    "    \"failConditions\": fail_conditions,\n",
    "    \"endConditions\": end_conditions,\n",
    "    \"startObservationSamplingConditions\": start_conditions\n",
    "}"
   ]
  },
  {
   "cell_type": "markdown",
   "metadata": {},
   "source": [
    "## Observation Recording Agents\n",
    "The agents that should be recorded.\n",
    "\n",
    "Left empty to record all agents."
   ]
  },
  {
   "cell_type": "code",
   "execution_count": null,
   "metadata": {},
   "outputs": [],
   "source": [
    "observation_recording_agents = [\n",
    "    \"Agent a\", \"Agent b\", \"Agent C\"\n",
    "]"
   ]
  },
  {
   "cell_type": "markdown",
   "metadata": {},
   "source": [
    "## Construct Request Body"
   ]
  },
  {
   "cell_type": "code",
   "execution_count": null,
   "metadata": {},
   "outputs": [],
   "source": [
    "def create_request_body(\n",
    "            scenarioId: str,\n",
    "            tags: List[str],\n",
    "            description: str,\n",
    "            parameters: List[dict],\n",
    "            openDrive: str,\n",
    "            openScenario: str,\n",
    "            usedRoute: str,\n",
    "            tagTree: dict,\n",
    "            testObjectives: dict,\n",
    "            conditions: dict,\n",
    "            observationRecordingAgents: List[dict],\n",
    "            egoTargetSpeed: float\n",
    "        ):\n",
    "    return {\n",
    "        \"scenarioId\": scenarioId,\n",
    "        \"tags\": tags,\n",
    "        \"description\": description,\n",
    "        \"parameters\": parameters,\n",
    "        \"openDrive\": openDrive,\n",
    "        \"openScenarioField\": openScenario,\n",
    "        \"usedRoute\": usedRoute,\n",
    "        \"tagTree\": tagTree,\n",
    "        \"testObjectives\": testObjectives,\n",
    "        \"conditions\": conditions,\n",
    "        \"observationRecordingAgents\": observationRecordingAgents,\n",
    "        \"egoTargetSpeed\": egoTargetSpeed\n",
    "    }"
   ]
  },
  {
   "cell_type": "code",
   "execution_count": null,
   "metadata": {},
   "outputs": [],
   "source": [
    "# openScenarioField = upload_openscenario(\"/resources/xosc/itri/hct_04.xosc\")\n",
    "openScenarioField = use_scenario_string(\"<OpenSCENARIO> <!-- some scenario --> </OpenSCENARIO>\")\n",
    "import uuid\n",
    "data = create_request_body(\n",
    "    scenarioId = scenario_id,\n",
    "    tags = tag_ids_to_be_used_in_created_scenario,\n",
    "    description = description,\n",
    "    parameters = parameters,\n",
    "    openDrive = opendrive_id,\n",
    "    openScenario = openScenarioField,\n",
    "    usedRoute = route,\n",
    "    tagTree = tag_tree,\n",
    "    testObjectives = test_objective,\n",
    "    conditions = conditions,\n",
    "    observationRecordingAgents = observation_recording_agents,\n",
    "    egoTargetSpeed = 40\n",
    ")"
   ]
  },
  {
   "cell_type": "code",
   "execution_count": null,
   "metadata": {},
   "outputs": [],
   "source": [
    "r = requests.post(f\"{base_url}/scenarios\", headers=headers, json=data)\n",
    "try:\n",
    "    print(json.dumps(r.json(), indent=4))\n",
    "    scenario_uuid = r.json()[\"doc\"][\"id\"]\n",
    "except Exception as e:\n",
    "    print(e)\n",
    "except:\n",
    "    print(r.text)"
   ]
  },
  {
   "cell_type": "markdown",
   "metadata": {},
   "source": [
    "## DANGER!!!"
   ]
  },
  {
   "cell_type": "markdown",
   "metadata": {},
   "source": [
    "## DANGER!!!"
   ]
  },
  {
   "cell_type": "markdown",
   "metadata": {},
   "source": [
    "## DANGER!!!"
   ]
  },
  {
   "cell_type": "markdown",
   "metadata": {},
   "source": [
    "## DANGER!!!"
   ]
  },
  {
   "cell_type": "markdown",
   "metadata": {},
   "source": [
    "## DANGER!!!"
   ]
  },
  {
   "cell_type": "markdown",
   "metadata": {},
   "source": [
    "## DANGER!!!"
   ]
  },
  {
   "cell_type": "markdown",
   "metadata": {},
   "source": [
    "## DANGER!!!"
   ]
  },
  {
   "cell_type": "markdown",
   "metadata": {},
   "source": [
    "## DANGER!!!"
   ]
  },
  {
   "cell_type": "markdown",
   "metadata": {},
   "source": [
    "## DANGER!!!"
   ]
  },
  {
   "cell_type": "markdown",
   "metadata": {},
   "source": [
    "## DANGER!!!"
   ]
  },
  {
   "cell_type": "markdown",
   "metadata": {},
   "source": [
    "## TO DELETE A SCENARIO"
   ]
  },
  {
   "cell_type": "code",
   "execution_count": null,
   "metadata": {},
   "outputs": [],
   "source": [
    "\n",
    "\n",
    "import requests\n",
    "# Construct the URL\n",
    "print(f\"Deleting scenario {scenario_uuid}\")\n",
    "url = f'{base_url}/scenarios/{scenario_uuid}'\n",
    "\n",
    "try:\n",
    "    # Send the DELETE request\n",
    "    response = requests.delete(url, headers=headers)\n",
    "\n",
    "    # Check if the request was successful\n",
    "    if response.status_code == 200:\n",
    "        data = response.json()\n",
    "        print(f\"Document deleted successfully:\\ndata: {json.dumps(data, indent=4)}\")\n",
    "    else:\n",
    "        print(f\"Failed to delete document. Status code: {response.status_code}\")\n",
    "        print(\"Response:\", response.text)\n",
    "\n",
    "except requests.exceptions.RequestException as err:\n",
    "    print(\"An error occurred:\", err)"
   ]
  },
  {
   "cell_type": "code",
   "execution_count": null,
   "metadata": {},
   "outputs": [],
   "source": []
  }
 ],
 "metadata": {
  "kernelspec": {
   "display_name": "Python 3",
   "language": "python",
   "name": "python3"
  },
  "language_info": {
   "codemirror_mode": {
    "name": "ipython",
    "version": 3
   },
   "file_extension": ".py",
   "mimetype": "text/x-python",
   "name": "python",
   "nbconvert_exporter": "python",
   "pygments_lexer": "ipython3",
   "version": "3.12.2"
  }
 },
 "nbformat": 4,
 "nbformat_minor": 2
}
